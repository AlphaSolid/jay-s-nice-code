{
 "cells": [
  {
   "cell_type": "code",
   "execution_count": null,
   "metadata": {},
   "outputs": [],
   "source": [
    "age = 45"
   ]
  },
  {
   "cell_type": "code",
   "execution_count": null,
   "metadata": {},
   "outputs": [],
   "source": [
    "age = (5-1)"
   ]
  },
  {
   "cell_type": "code",
   "execution_count": 10,
   "metadata": {},
   "outputs": [
    {
     "name": "stdout",
     "output_type": "stream",
     "text": [
      "249\n"
     ]
    }
   ],
   "source": [
    "print (age-1)"
   ]
  },
  {
   "cell_type": "code",
   "execution_count": 11,
   "metadata": {},
   "outputs": [
    {
     "data": {
      "text/plain": [
       "False"
      ]
     },
     "execution_count": 11,
     "metadata": {},
     "output_type": "execute_result"
    }
   ],
   "source": [
    "(age) == (age-1)"
   ]
  },
  {
   "cell_type": "code",
   "execution_count": 22,
   "metadata": {},
   "outputs": [],
   "source": [
    "x = ('_________')\n",
    "y = \"Welcome\"\n",
    "z = ('_________')"
   ]
  },
  {
   "cell_type": "code",
   "execution_count": 23,
   "metadata": {},
   "outputs": [
    {
     "name": "stdout",
     "output_type": "stream",
     "text": [
      "_________\n",
      "Welcome\n",
      "_________\n"
     ]
    }
   ],
   "source": [
    "print (x)\n",
    "print (y)\n",
    "print (z)"
   ]
  },
  {
   "cell_type": "code",
   "execution_count": 24,
   "metadata": {},
   "outputs": [
    {
     "name": "stdout",
     "output_type": "stream",
     "text": [
      "*    *    *    *    ___________\n",
      "*    *    *    *    ___________\n",
      "*    *    *    *    ___________\n",
      "_______________________________\n",
      "_______________________________\n",
      "_______________________________\n"
     ]
    }
   ],
   "source": [
    "print ('*    *    *    *    ___________')\n",
    "print ('*    *    *    *    ___________')\n",
    "print ('*    *    *    *    ___________')\n",
    "print ('_______________________________')\n",
    "print ('_______________________________')\n",
    "print ('_______________________________')"
   ]
  },
  {
   "cell_type": "markdown",
   "metadata": {},
   "source": [
    "# BASIC OPERATIONS LESSON 2"
   ]
  },
  {
   "cell_type": "code",
   "execution_count": 4,
   "metadata": {},
   "outputs": [
    {
     "name": "stdout",
     "output_type": "stream",
     "text": [
      "10\n"
     ]
    }
   ],
   "source": [
    "# 5+5\n",
    "print (5 + 5)"
   ]
  },
  {
   "cell_type": "code",
   "execution_count": 5,
   "metadata": {},
   "outputs": [
    {
     "name": "stdout",
     "output_type": "stream",
     "text": [
      "0\n"
     ]
    }
   ],
   "source": [
    "# 5-5\n",
    "print (5 - 5)"
   ]
  },
  {
   "cell_type": "code",
   "execution_count": 6,
   "metadata": {},
   "outputs": [
    {
     "name": "stdout",
     "output_type": "stream",
     "text": [
      "25\n"
     ]
    }
   ],
   "source": [
    "# 5*5\n",
    "print (5 * 5)"
   ]
  },
  {
   "cell_type": "code",
   "execution_count": 7,
   "metadata": {},
   "outputs": [
    {
     "name": "stdout",
     "output_type": "stream",
     "text": [
      "1.0\n"
     ]
    }
   ],
   "source": [
    "# 5/5\n",
    "print (5 / 5)"
   ]
  },
  {
   "cell_type": "code",
   "execution_count": 8,
   "metadata": {},
   "outputs": [
    {
     "name": "stdout",
     "output_type": "stream",
     "text": [
      "20\n"
     ]
    }
   ],
   "source": [
    "# (5+5)\n",
    "print (5 + 5 +(5 + 5))"
   ]
  },
  {
   "cell_type": "code",
   "execution_count": 9,
   "metadata": {},
   "outputs": [
    {
     "name": "stdout",
     "output_type": "stream",
     "text": [
      "3\n"
     ]
    }
   ],
   "source": [
    "# 13%5 (basically * but no decimal)\n",
    "print (13 % 5)"
   ]
  },
  {
   "cell_type": "code",
   "execution_count": 10,
   "metadata": {},
   "outputs": [
    {
     "name": "stdout",
     "output_type": "stream",
     "text": [
      "3125\n"
     ]
    }
   ],
   "source": [
    "# 5 ** 5 (power)\n",
    "print (5 ** 5)"
   ]
  },
  {
   "cell_type": "markdown",
   "metadata": {},
   "source": [
    "# DATATYPES LESSON 3"
   ]
  },
  {
   "cell_type": "code",
   "execution_count": 1,
   "metadata": {},
   "outputs": [
    {
     "name": "stdout",
     "output_type": "stream",
     "text": [
      "<class 'str'>\n"
     ]
    }
   ],
   "source": [
    "# example of a string\n",
    "x = '3'\n",
    "# example of a interger\n",
    "z = 3\n",
    "# example of a float\n",
    "y = 3.0\n",
    "# example of type (tells you what type it is,eg. string,interger)\n",
    "print(type(x))\n"
   ]
  },
  {
   "cell_type": "code",
   "execution_count": 3,
   "metadata": {},
   "outputs": [
    {
     "name": "stdout",
     "output_type": "stream",
     "text": [
      "<class 'float'>\n"
     ]
    }
   ],
   "source": [
    "# convert something to float\n",
    "z = 3\n",
    "z = float(z)\n",
    "print(type(z))"
   ]
  },
  {
   "cell_type": "markdown",
   "metadata": {},
   "source": [
    "cannot float a word"
   ]
  },
  {
   "cell_type": "code",
   "execution_count": 9,
   "metadata": {},
   "outputs": [
    {
     "name": "stdout",
     "output_type": "stream",
     "text": [
      "1\n",
      "2\n"
     ]
    }
   ],
   "source": [
    "x = 1.57\n",
    "print(int(x))\n",
    "print(round(x))"
   ]
  },
  {
   "cell_type": "code",
   "execution_count": 4,
   "metadata": {},
   "outputs": [
    {
     "name": "stdout",
     "output_type": "stream",
     "text": [
      "heyheyhey\n"
     ]
    }
   ],
   "source": [
    "x = 1.57\n",
    "\n",
    "print('hey'*3)"
   ]
  },
  {
   "cell_type": "markdown",
   "metadata": {},
   "source": [
    "# DATATYPES 2 - LESSON 4"
   ]
  },
  {
   "cell_type": "code",
   "execution_count": 1,
   "metadata": {},
   "outputs": [
    {
     "name": "stdout",
     "output_type": "stream",
     "text": [
      "Jay\n"
     ]
    }
   ],
   "source": [
    "#lists           0     1      2\n",
    "my_notlist = ['bruh','nice','Jay']\n",
    "print(my_notlist[2])"
   ]
  },
  {
   "cell_type": "code",
   "execution_count": 2,
   "metadata": {},
   "outputs": [
    {
     "name": "stdout",
     "output_type": "stream",
     "text": [
      "Jay\n"
     ]
    }
   ],
   "source": [
    "#tuples (just lists but can't change like create sub-list)eg. hp,armour,etc.\n",
    "my_nottuple = ('bruh','nice','Jay')\n",
    "print(my_nottuple[2])"
   ]
  },
  {
   "cell_type": "code",
   "execution_count": 11,
   "metadata": {},
   "outputs": [
    {
     "name": "stdout",
     "output_type": "stream",
     "text": [
      "['Jay']\n"
     ]
    }
   ],
   "source": [
    "#sub-list(cannot create from tuple)\n",
    "my_secondlist = ['bruh','nice','Jay']\n",
    "VIP_namelist = my_secondlist[2:3]\n",
    "print(VIP_namelist)"
   ]
  },
  {
   "cell_type": "code",
   "execution_count": 17,
   "metadata": {},
   "outputs": [
    {
     "name": "stdout",
     "output_type": "stream",
     "text": [
      "9\n",
      "3\n",
      "9\n"
     ]
    }
   ],
   "source": [
    "#how to count elements in lists,tuples\n",
    "things = [7,7,7,7,7,7,7,7,7]\n",
    "print(things.count(7))\n",
    "things2 = (1,2,1,2,1,2)\n",
    "print(things2.count(1))\n",
    "print(len(things))"
   ]
  },
  {
   "cell_type": "code",
   "execution_count": 19,
   "metadata": {},
   "outputs": [
    {
     "name": "stdout",
     "output_type": "stream",
     "text": [
      "<class 'tuple'>\n",
      "<class 'list'>\n"
     ]
    }
   ],
   "source": [
    "#change list to tuple,tuple to list because reasons\n",
    "numbers = [1,3,3,4,5,9]\n",
    "numbers1 = tuple(numbers)\n",
    "print(type(numbers1))\n",
    "numbers2 = list(numbers1)\n",
    "print(type(numbers2))"
   ]
  },
  {
   "cell_type": "code",
   "execution_count": 23,
   "metadata": {},
   "outputs": [
    {
     "name": "stdout",
     "output_type": "stream",
     "text": [
      "Method 1: ['apple', 'pear']\n",
      "Method 2: ['apple', 'pear']\n"
     ]
    }
   ],
   "source": [
    "#deleting elements to a list\n",
    "fruits = ['apple','pear','banana']\n",
    "#method 1\n",
    "fruits1 = fruits.copy()\n",
    "fruits1.remove('banana')\n",
    "print('Method 1:',fruits1)\n",
    "#Method 2\n",
    "fruits2 = fruits.copy()\n",
    "del fruits2[2]\n",
    "print('Method 2:',fruits2)"
   ]
  },
  {
   "cell_type": "code",
   "execution_count": null,
   "metadata": {},
   "outputs": [],
   "source": [
    "#adding elements\n"
   ]
  },
  {
   "cell_type": "markdown",
   "metadata": {},
   "source": [
    "# LESSON 5(cause i have no time to update the last lesson's notes)"
   ]
  },
  {
   "cell_type": "code",
   "execution_count": 11,
   "metadata": {},
   "outputs": [
    {
     "name": "stdout",
     "output_type": "stream",
     "text": [
      "[1, 3, 5, 8, 11]\n"
     ]
    }
   ],
   "source": [
    "#.sort sorts numbers from biggest to smallest\n",
    "list1 = [8,3,5,1,11]\n",
    "list1.sort()\n",
    "print(list1)"
   ]
  },
  {
   "cell_type": "code",
   "execution_count": 13,
   "metadata": {},
   "outputs": [
    {
     "data": {
      "text/plain": [
       "2"
      ]
     },
     "execution_count": 13,
     "metadata": {},
     "output_type": "execute_result"
    }
   ],
   "source": [
    "#.index shows the index number of a element in a list\n",
    "list2 = [8,3,5,1,11]\n",
    "list2.index(5)"
   ]
  },
  {
   "cell_type": "markdown",
   "metadata": {},
   "source": [
    "# Dictionaries!"
   ]
  },
  {
   "cell_type": "code",
   "execution_count": 29,
   "metadata": {},
   "outputs": [
    {
     "name": "stdout",
     "output_type": "stream",
     "text": [
      "{'prac1': 'etc.', 'prac2': 'exp', 'prac3': 'overide'}\n"
     ]
    }
   ],
   "source": [
    "#creating dictionaries\n",
    "pracDictionary = {\"prac1\": \"etc.\",\"prac2\": \"exp\",\"prac3\": \"overide\"}\n",
    "print(pracDictionary)"
   ]
  },
  {
   "cell_type": "code",
   "execution_count": 15,
   "metadata": {},
   "outputs": [
    {
     "name": "stdout",
     "output_type": "stream",
     "text": [
      "{'fruit 1': 'Apple', 'fruit 2': 'Orange', 'fruit 3': 'Banana'}\n",
      "Apple\n"
     ]
    }
   ],
   "source": [
    "#Example(yeah,you can press enter and it'll still work)\n",
    "myDictionary = {\n",
    "  \"fruit 1\": \"Apple\",\n",
    "  \"fruit 2\": \"Orange\",\n",
    "  \"fruit 3\": \"Banana\"\n",
    "}\n",
    "print(myDictionary)\n",
    "print(myDictionary[\"fruit 1\"])"
   ]
  },
  {
   "cell_type": "code",
   "execution_count": 25,
   "metadata": {},
   "outputs": [
    {
     "name": "stdout",
     "output_type": "stream",
     "text": [
      "Pear\n"
     ]
    }
   ],
   "source": [
    "#yall can't have same keys(you can, but it'll overlap)\n",
    "wrongDic = {\n",
    "    \"wrongkey1\": \"Apple\",\n",
    "    \"wrongkey1\": \"Pear\"\n",
    "}\n",
    "print(wrongDic[\"wrongkey1\"])"
   ]
  },
  {
   "cell_type": "code",
   "execution_count": 33,
   "metadata": {},
   "outputs": [
    {
     "name": "stdout",
     "output_type": "stream",
     "text": [
      "proof it changed before photo: {'fruit 1': 'Apple', 'fruit 2': 'Orange', 'fruit 3': 'Banana'}\n",
      "after photo: {'fruit 1': 'rottenApple', 'fruit 2': 'Orange', 'fruit 3': 'Banana'}\n"
     ]
    }
   ],
   "source": [
    "#changing values in dictionaries\n",
    "myDictionary = {\n",
    "  \"fruit 1\": \"Apple\",\n",
    "  \"fruit 2\": \"Orange\",\n",
    "  \"fruit 3\": \"Banana\"\n",
    "}\n",
    "print(\"proof it changed before photo:\",myDictionary)\n",
    "myDictionary[\"fruit 1\"] = \"rottenApple\"\n",
    "print(\"after photo:\",myDictionary)"
   ]
  },
  {
   "cell_type": "code",
   "execution_count": 34,
   "metadata": {},
   "outputs": [
    {
     "name": "stdout",
     "output_type": "stream",
     "text": [
      "{'rubbish': 'adidas'}\n"
     ]
    }
   ],
   "source": [
    "#adding new key-value pairs to a dictionary(works like .append)\n",
    "Dic = {\n",
    "    \"rubbish\": \"adidas\"\n",
    "}\n",
    "print(Dic)"
   ]
  },
  {
   "cell_type": "code",
   "execution_count": 35,
   "metadata": {},
   "outputs": [
    {
     "name": "stdout",
     "output_type": "stream",
     "text": [
      "{'rubbish': 'adidas', 'overpriced': 'Apple'}\n"
     ]
    }
   ],
   "source": [
    "Dic[\"overpriced\"] = \"Apple\"\n",
    "print (Dic)"
   ]
  },
  {
   "cell_type": "code",
   "execution_count": 37,
   "metadata": {},
   "outputs": [
    {
     "name": "stdout",
     "output_type": "stream",
     "text": [
      "{'overpriced': 'Apple'}\n"
     ]
    }
   ],
   "source": [
    "#removing key-value pairs\n",
    "del Dic[\"rubbish\"]\n",
    "print(Dic)"
   ]
  },
  {
   "cell_type": "code",
   "execution_count": 43,
   "metadata": {},
   "outputs": [
    {
     "name": "stdout",
     "output_type": "stream",
     "text": [
      "{'Hello': 'Guys!'}\n"
     ]
    }
   ],
   "source": [
    "#another use for it\n",
    "google = {'Hello' : 'world!'}\n",
    "google['Hello'] = 'Guys!'\n",
    "print(google)"
   ]
  },
  {
   "cell_type": "markdown",
   "metadata": {},
   "source": [
    "# Nesting Dictionaries(dictionary inside a dictionary)WIP"
   ]
  },
  {
   "cell_type": "code",
   "execution_count": 44,
   "metadata": {},
   "outputs": [
    {
     "name": "stdout",
     "output_type": "stream",
     "text": [
      "{'items': ['table', 'chair', 'pen']}\n"
     ]
    }
   ],
   "source": [
    "#example(list in dictionary)\n",
    "something = {'items':['table','chair','pen']}\n",
    "print(something)"
   ]
  },
  {
   "cell_type": "code",
   "execution_count": 46,
   "metadata": {},
   "outputs": [
    {
     "name": "stdout",
     "output_type": "stream",
     "text": [
      "chair\n"
     ]
    }
   ],
   "source": [
    "#getting 'chair ' out\n",
    "print(something['items'][1])"
   ]
  },
  {
   "cell_type": "code",
   "execution_count": 1,
   "metadata": {},
   "outputs": [
    {
     "ename": "SyntaxError",
     "evalue": "invalid syntax (<ipython-input-1-fed20fbde715>, line 2)",
     "output_type": "error",
     "traceback": [
      "\u001b[1;36m  File \u001b[1;32m\"<ipython-input-1-fed20fbde715>\"\u001b[1;36m, line \u001b[1;32m2\u001b[0m\n\u001b[1;33m    anything =\u001b[0m\n\u001b[1;37m               ^\u001b[0m\n\u001b[1;31mSyntaxError\u001b[0m\u001b[1;31m:\u001b[0m invalid syntax\n"
     ]
    }
   ],
   "source": [
    "#nested dictionary\n",
    "anything = "
   ]
  },
  {
   "cell_type": "markdown",
   "metadata": {},
   "source": [
    "# LESSON 6-B O O L E A N"
   ]
  },
  {
   "cell_type": "markdown",
   "metadata": {},
   "source": [
    "#### boolean is basically y/n quiz"
   ]
  },
  {
   "cell_type": "code",
   "execution_count": 3,
   "metadata": {},
   "outputs": [
    {
     "name": "stdout",
     "output_type": "stream",
     "text": [
      "True\n"
     ]
    }
   ],
   "source": [
    "#it helps check if something is there/true or false\n",
    "#Example\n",
    "name_list = ['Lisa', 'Thomas', 'Eric']\n",
    "print('Lisa' in name_list) # to check if 'Lisa' is in name_list"
   ]
  },
  {
   "cell_type": "code",
   "execution_count": 5,
   "metadata": {},
   "outputs": [
    {
     "name": "stdout",
     "output_type": "stream",
     "text": [
      "True\n"
     ]
    }
   ],
   "source": [
    "#nother thing to note that it can be used for variables\n",
    "x = 1\n",
    "print(x == 1)"
   ]
  },
  {
   "cell_type": "markdown",
   "metadata": {},
   "source": [
    "### All the operators\n",
    "\n",
    "Operators| Meaning\n",
    "--------|---------\n",
    " == | Equal\n",
    " != | Not equal\n",
    " >  | More than\n",
    " >= | More than or Equal to\n",
    " <  | Less than\n",
    " <= | Less than or Equal to"
   ]
  },
  {
   "cell_type": "code",
   "execution_count": 15,
   "metadata": {},
   "outputs": [
    {
     "name": "stdout",
     "output_type": "stream",
     "text": [
      "Boolean value of == : False\n",
      "Boolean value of != : True\n",
      "Boolean value of > : False\n",
      "Boolean value of >= : False\n",
      "Boolean value of < : True\n",
      "Boolean value of <= : True\n"
     ]
    }
   ],
   "source": [
    "# Example\n",
    "variable1 = 5\n",
    "variable2 = 10\n",
    "\n",
    "print(\"Boolean value of == :\",variable1 == variable2)\n",
    "print(\"Boolean value of != :\",variable1 != variable2)\n",
    "print(\"Boolean value of > :\",variable1 > variable2)\n",
    "print(\"Boolean value of >= :\",variable1 >= variable2)\n",
    "print(\"Boolean value of < :\",variable1 < variable2)\n",
    "print(\"Boolean value of <= :\",variable1 <= variable2)"
   ]
  },
  {
   "cell_type": "code",
   "execution_count": 7,
   "metadata": {},
   "outputs": [
    {
     "name": "stdout",
     "output_type": "stream",
     "text": [
      "Can John give 5 sweets?  True\n",
      "Can Sally give 5 sweets?  False\n",
      "Can John give 3 sweets?  True\n",
      "Can Sally give 3 sweets?  True\n"
     ]
    }
   ],
   "source": [
    "#example\n",
    "Mary = 0\n",
    "\n",
    "John = 5\n",
    "\n",
    "Sally = 3\n",
    "\n",
    "#If John and Sally needs to give 5 each\n",
    "print(\"Can John give 5 sweets? \", John >= 5)\n",
    "print(\"Can Sally give 5 sweets? \", Sally >= 5)\n",
    "\n",
    "#If John and Sally needs to give 3 each\n",
    "print(\"Can John give 3 sweets? \", John >= 3)\n",
    "print(\"Can Sally give 3 sweets? \", Sally >= 3)"
   ]
  },
  {
   "cell_type": "markdown",
   "metadata": {},
   "source": [
    "# Lesson 7-if,else,elif (cause im as fast as GAS GAS GAS)"
   ]
  },
  {
   "cell_type": "markdown",
   "metadata": {},
   "source": [
    "#### it's basically the same thing as Scratch:if it is correct/wrong,(do something).if else,(do something)"
   ]
  },
  {
   "cell_type": "code",
   "execution_count": 10,
   "metadata": {},
   "outputs": [
    {
     "name": "stdout",
     "output_type": "stream",
     "text": [
      "if im not dumb,x should be 1\n",
      "ay,im correct\n"
     ]
    }
   ],
   "source": [
    "#basic example with only if\n",
    "x = 1\n",
    "print(\"if im not dumb,x should be 1\")\n",
    "if x == 1:\n",
    "    print(\"ay,im correct\")"
   ]
  },
  {
   "cell_type": "code",
   "execution_count": 14,
   "metadata": {},
   "outputs": [
    {
     "name": "stdout",
     "output_type": "stream",
     "text": [
      "if im not dumb,x should be 1\n",
      "bruh me ..d..du..\n",
      "..how spell dumb\n"
     ]
    }
   ],
   "source": [
    "#example of if and else used together\n",
    "x = 1 * 2\n",
    "print(\"if im not dumb,x should be 1\")\n",
    "if x == 1 * 2 == 1:\n",
    "    print(\"ay im not dumb\")\n",
    "else:\n",
    "    print(\"bruh me ..d..du..\")\n",
    "    print(\"..how spell dumb\")"
   ]
  },
  {
   "cell_type": "markdown",
   "metadata": {},
   "source": [
    "#### IMPORTANT-ALWAYS REMEMBER YOUR INDENTS[Tab]"
   ]
  },
  {
   "cell_type": "code",
   "execution_count": 16,
   "metadata": {},
   "outputs": [
    {
     "name": "stdout",
     "output_type": "stream",
     "text": [
      "Example 1\n",
      "Example 2\n",
      "New variable1 =  10\n"
     ]
    }
   ],
   "source": [
    "#when a idiot forgets his indent\n",
    "print('Example 1')\n",
    "variable1 = 10\n",
    "if variable1 == 11:\n",
    "    variable1 = variable1 + 100\n",
    "    print('This condition adds 100 to variable1')\n",
    "    print(\"New variable1 = \", variable1)\n",
    "\n",
    "print('Example 2')\n",
    "variable1 = 10\n",
    "if variable1 == 11:\n",
    "    variable1 = variable1 + 100\n",
    "    print('This condition adds 100 to variable1')\n",
    "print(\"New variable1 = \", variable1)\n"
   ]
  },
  {
   "cell_type": "markdown",
   "metadata": {},
   "source": [
    "#### as you can see,because of the mistake,the final print(\" \")in example 2 is not part of the if statement,it is still printed"
   ]
  },
  {
   "cell_type": "markdown",
   "metadata": {},
   "source": [
    "### elif-when you have more than 1 condition/rule"
   ]
  },
  {
   "cell_type": "code",
   "execution_count": 18,
   "metadata": {},
   "outputs": [
    {
     "name": "stdout",
     "output_type": "stream",
     "text": [
      "number is equal to 5\n",
      "\n",
      "\n",
      "number is more than 5\n",
      "\n",
      "\n",
      "number is less than 5\n"
     ]
    }
   ],
   "source": [
    "#Example\n",
    "myNumber = 5\n",
    "if myNumber == 5:\n",
    "    print(\"number is equal to 5\")\n",
    "elif myNumber < 5:\n",
    "    print(\"number is less than 5\")\n",
    "else:\n",
    "    print(\"number is more than 5\")\n",
    "\n",
    "    \n",
    "print('\\n')\n",
    "    \n",
    "\n",
    "myNumber = 10\n",
    "if myNumber == 5:\n",
    "    print(\"number is equal to 5\")\n",
    "elif myNumber < 5:\n",
    "    print(\"number is less than 5\")\n",
    "else:\n",
    "    print(\"number is more than 5\")\n",
    "    \n",
    "    \n",
    "print('\\n')\n",
    "    \n",
    "\n",
    "myNumber = 1\n",
    "if myNumber == 5:\n",
    "    print(\"number is equal to 5\")\n",
    "elif myNumber < 5:\n",
    "    print(\"number is less than 5\")\n",
    "else:\n",
    "    print(\"number is more than 5\")"
   ]
  },
  {
   "cell_type": "markdown",
   "metadata": {},
   "source": [
    "# LESSON 8-FOR LOOPS"
   ]
  },
  {
   "cell_type": "code",
   "execution_count": 1,
   "metadata": {},
   "outputs": [],
   "source": [
    "#for loops are just    print('')*[enter no. here]    ,but do more complicated things"
   ]
  },
  {
   "cell_type": "code",
   "execution_count": 9,
   "metadata": {},
   "outputs": [
    {
     "name": "stdout",
     "output_type": "stream",
     "text": [
      "hellohellohellohellohellohellohellohello\n",
      "Hello\n",
      "Hello\n",
      "Hello\n",
      "Hello\n",
      "Hello\n"
     ]
    }
   ],
   "source": [
    "#normal loop 4 noobs\n",
    "print('hello'*8)\n",
    "# or\n",
    "print(\"Hello\")\n",
    "print(\"Hello\")\n",
    "print(\"Hello\")\n",
    "print(\"Hello\")\n",
    "print(\"Hello\")"
   ]
  },
  {
   "cell_type": "code",
   "execution_count": 10,
   "metadata": {},
   "outputs": [
    {
     "name": "stdout",
     "output_type": "stream",
     "text": [
      "Hello\n",
      "Hello\n",
      "Hello\n",
      "Hello\n",
      "Hello\n"
     ]
    }
   ],
   "source": [
    "#while cool people do this:\n",
    "for i in range(5):\n",
    "    print(\"Hello\")\n",
    "#btw, i is just a random variable"
   ]
  },
  {
   "cell_type": "code",
   "execution_count": 11,
   "metadata": {},
   "outputs": [
    {
     "name": "stdout",
     "output_type": "stream",
     "text": [
      "4\n"
     ]
    }
   ],
   "source": [
    "#if you print i...(The variable^)\n",
    "                               \n",
    "print(i)\n",
    "#this is because they count the zero at the front, but since it is a zero,ofc it won't count\n",
    "#PS the variable i is a temporary variable\n",
    "#also,'temporary variable'is just a fancy name given to it-its just a variable that changes until the loop ends"
   ]
  },
  {
   "cell_type": "code",
   "execution_count": 16,
   "metadata": {},
   "outputs": [
    {
     "name": "stdout",
     "output_type": "stream",
     "text": [
      "apple\n",
      "banana\n",
      "coconut\n"
     ]
    }
   ],
   "source": [
    "#another example\n",
    "myList = [\"apple\",\"banana\",\"coconut\"]\n",
    "for fruit in myList:\n",
    "    print(fruit)"
   ]
  },
  {
   "cell_type": "markdown",
   "metadata": {},
   "source": [
    "### TRAVERSING TUPLES AND LISTS"
   ]
  },
  {
   "cell_type": "code",
   "execution_count": 15,
   "metadata": {},
   "outputs": [
    {
     "name": "stdout",
     "output_type": "stream",
     "text": [
      "apple\n",
      "banana\n",
      "coconut\n"
     ]
    }
   ],
   "source": [
    "myList = [\"apple\",\"banana\",\"coconut\"]\n",
    "\n",
    "for index in range(len(myList)):\n",
    "    print(myList[index])\n",
    "#len counts the amount of things in (mylist),so it means the amount of times it needs to repeat is the amount of things \n",
    "#in the list"
   ]
  },
  {
   "cell_type": "markdown",
   "metadata": {},
   "source": [
    "### TRAVERSING DICTIONARIES"
   ]
  },
  {
   "cell_type": "code",
   "execution_count": null,
   "metadata": {},
   "outputs": [],
   "source": []
  }
 ],
 "metadata": {
  "kernelspec": {
   "display_name": "Python 3",
   "language": "python",
   "name": "python3"
  },
  "language_info": {
   "codemirror_mode": {
    "name": "ipython",
    "version": 3
   },
   "file_extension": ".py",
   "mimetype": "text/x-python",
   "name": "python",
   "nbconvert_exporter": "python",
   "pygments_lexer": "ipython3",
   "version": "3.7.4"
  }
 },
 "nbformat": 4,
 "nbformat_minor": 2
}
