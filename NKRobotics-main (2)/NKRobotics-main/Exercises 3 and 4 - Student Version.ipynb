{
 "cells": [
  {
   "cell_type": "markdown",
   "metadata": {},
   "source": [
    "## Exercises for Lesson 3 and 4\n",
    "\n",
    "In these Exercises, based on the concepts learnt in Lesson 3 and 4, I would need you to help Mdm Lucy with her tasks."
   ]
  },
  {
   "cell_type": "markdown",
   "metadata": {},
   "source": [
    "### Task 1 - Sorting Items\n",
    "\n",
    "Madam Lucy has two list of items of different categories. Some of the items are wrongly classified and she will need your help to classify the items correctly.\n",
    "\n",
    "Hint: Use .append() and .remove() to complete this task. \n",
    "Use list.sort() to sort the elements in alphabetical order.\n",
    "\n",
    "\n",
    "\n",
    "Answer:\n",
    "\n",
    "```vegetables = ['Broccolli', 'Cabbage', 'Carrot', 'Cauliflower', 'Lettuce', 'Spinach'] ```\n",
    "\n",
    "```fruits = ['Apple', 'Banana', 'Orange', 'Peach', 'Pear']```\n",
    "\n"
   ]
  },
  {
   "cell_type": "code",
   "execution_count": null,
   "metadata": {},
   "outputs": [],
   "source": [
    "# Lists of items Madam Lucy has\n",
    "vegetables = ['Spinach', 'Broccolli', 'Banana', 'Cabbage', 'Lettuce', 'Orange']\n",
    "fruits = ['Apple','Cauliflower','Pear','Carrot','Peach']\n",
    "\n",
    "# Type your answers below\n"
   ]
  },
  {
   "cell_type": "markdown",
   "metadata": {},
   "source": [
    "### Task 2 - Total Price\n",
    "\n",
    "It was noted that the vegetables cost SGD 2 each and the fruits cost SGD 1.50 each. Calculate the total price for all the vegetables and fruits that Madam Lucy has. Assign the total price to a new variable ```total_price```\n",
    "\n",
    "Hint: Use len() to obtain total number of items in a list\n",
    "\n",
    "\n",
    "Answer:\n",
    "\n",
    "```Total Price = $19.5 ```\n",
    "\n",
    "\n"
   ]
  },
  {
   "cell_type": "code",
   "execution_count": null,
   "metadata": {
    "scrolled": true
   },
   "outputs": [],
   "source": [
    "# Type your answers below\n",
    "\n"
   ]
  },
  {
   "cell_type": "markdown",
   "metadata": {},
   "source": [
    "### Task 3 -  Extract information\n",
    "\n",
    "Madam Lucy has a list of lists which contain different informations in the following order.\n",
    "\n",
    "information = [name_list, age_list, weight_list]\n",
    "\n",
    "There is one problem which is the index of age_list is in reverse order of name_list.\n",
    "\n",
    "Eg. name_list has 5 names, age_list has 5 ages, weight_list has 5 weight\n",
    "\n",
    "Index 0 of name_list has age that is Index 4 of age_list and weight that is Index 0 of weight_list\n",
    "\n",
    "Index 4 of name_list has age that is Index 0 of age_list and weight that is Index 4 of weight_list\n",
    "\n",
    "\n",
    "\n",
    "Help Madam Lucy to extract her son (Maverick)'s information.\n",
    "\n",
    "\n",
    "Hint: Create the individual name_list, age_list and weight_list from information first. \n",
    "\n",
    "Use list.index(element) to find the index number of the element\n",
    "\n",
    "\n",
    "Answer:\n",
    "\n",
    "```Name = Maverick  ```\n",
    "```Age = 2 years old```\n",
    "```Weight = 12.3 kg ```\n",
    "\n",
    "\n"
   ]
  },
  {
   "cell_type": "code",
   "execution_count": null,
   "metadata": {},
   "outputs": [],
   "source": [
    "# Information list\n",
    "information = [['Albert', 'Aaron', 'Charlotte', 'Maverick', 'Evon', 'Lucas', 'Olivia', 'Cayden'],\n",
    "               [3, 5, 7, 5, 2, 4, 6, 7],\n",
    "               [25, 20.6, 15.5, 12.3, 17.3, 22.4, 16, 13]]\n",
    "# Type your answers here\n",
    "\n",
    "\n"
   ]
  },
  {
   "cell_type": "code",
   "execution_count": null,
   "metadata": {},
   "outputs": [],
   "source": []
  }
 ],
 "metadata": {
  "kernelspec": {
   "display_name": "Python 3",
   "language": "python",
   "name": "python3"
  },
  "language_info": {
   "codemirror_mode": {
    "name": "ipython",
    "version": 3
   },
   "file_extension": ".py",
   "mimetype": "text/x-python",
   "name": "python",
   "nbconvert_exporter": "python",
   "pygments_lexer": "ipython3",
   "version": "3.8.5"
  }
 },
 "nbformat": 4,
 "nbformat_minor": 4
}
