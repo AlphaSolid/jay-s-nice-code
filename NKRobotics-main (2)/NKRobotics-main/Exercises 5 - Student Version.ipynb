{
 "cells": [
  {
   "cell_type": "markdown",
   "metadata": {},
   "source": [
    "## Exercises for Lesson 5\n",
    " \n",
    "In these Exercise, based on the concepts learnt in Lesson 5, in these exercises we will review whats being learnt from Lesson 1 to 5"
   ]
  },
  {
   "cell_type": "markdown",
   "metadata": {},
   "source": [
    "### Exercise 1 - Trading between Players\n",
    "\n",
    "In this following exercise, there are 2 dictionaries `buyers` and `items`\n",
    "In `buyers`, it contains 2 key-values pair and the values contain another dictionary with contain keys `Name, Gold and Bag`.\n",
    "In `items`, it contains tbe item as key and its price as value\n",
    " \n",
    "Return an updated `buyers` dictionary after every sequence of event. (You do not need to update the `items` dictionary)\n"
   ]
  },
  {
   "cell_type": "markdown",
   "metadata": {},
   "source": [
    "**Sequence 1**\n",
    "\n",
    "Norman buys 1 MP-Potion and Henry buys a bag of arrows\n",
    "\n",
    "Return an updated `buyers` dictionary with the updated amount of `Gold` and updated `Bag`\n",
    "\n",
    "Answer: \n",
    "\n",
    "`{'Player 1': {'Name': 'Norman', 'Gold': 90, 'Bag': ['Dagger', 'HP-Potion', 'Shield','MP-Potion]}, 'Player 2': {'Name': 'Henry', 'Gold': 150, 'Bag': ['Bow', 'Drumstick','Bag of Arrows']}}`\n"
   ]
  },
  {
   "cell_type": "code",
   "execution_count": 4,
   "metadata": {},
   "outputs": [],
   "source": [
    "# Initial Dictionaries \n",
    "buyers = {\n",
    "        'Player 1': {'Name': 'Norman',\n",
    "                      'Gold': 100,\n",
    "                      'Bag': ['Dagger', 'HP-Potion', 'Shield']},\n",
    "        'Player 2': {'Name': 'Henry',\n",
    "                      'Gold': 200,\n",
    "                      'Bag': ['Bow', 'Drumstick']} \n",
    "        }\n",
    "\n",
    "items = {'Bag of Arrows': 50, \n",
    "         'MP-Potion':10, \n",
    "         'Sword': 80, \n",
    "         'HP-Potion':10}\n",
    "\n"
   ]
  },
  {
   "cell_type": "code",
   "execution_count": 6,
   "metadata": {},
   "outputs": [
    {
     "data": {
      "text/plain": [
       "dict_items([('Player 1', {'Name': 'Norman', 'Gold': 100, 'Bag': ['Dagger', 'HP-Potion', 'Shield']}), ('Player 2', {'Name': 'Henry', 'Gold': 200, 'Bag': ['Bow', 'Drumstick']})])"
      ]
     },
     "execution_count": 6,
     "metadata": {},
     "output_type": "execute_result"
    }
   ],
   "source": [
    "# Type your answer for sequence 1 below"
   ]
  },
  {
   "cell_type": "markdown",
   "metadata": {},
   "source": [
    "**Sequence 2**\n",
    "\n",
    "Norman trades his HP-Potion with Henry's Drumstick\n",
    "\n",
    "Return an updated `buyers` dictionary with the updated amount of `Gold` and updated `Bag`\n",
    "\n",
    "Answer: \n",
    "\n",
    "\n",
    "`{'Player 1': {'Name': 'Norman', 'Gold': 90, 'Bag': ['Dagger', 'Drumstick', 'Shield','MP-Potion]}, 'Player 2': {'Name': 'Henry', 'Gold': 150, 'Bag': ['Bow', 'HP-Potion','Bag of Arrows']}}`\n",
    "\n",
    "`        "
   ]
  },
  {
   "cell_type": "code",
   "execution_count": null,
   "metadata": {},
   "outputs": [],
   "source": [
    "# Type your answer for sequence 2 below"
   ]
  },
  {
   "cell_type": "markdown",
   "metadata": {},
   "source": [
    "**Sequence 3**\n",
    "\n",
    "Norman left the market. Remove Norman from `buyers` and put Henry under `Player 1`.\n",
    "A new player named George with 120 gold, and has only a list of ['Sword','Shield'] in his bag.\n",
    "\n",
    "Return an updated `buyers` dictionary\n",
    "\n",
    "Answer: \n",
    "\n",
    "`{'Player 1': {'Name': 'Henry', 'Gold': 150, 'Bag': ['Bow', 'HP-Potion','Bag of Arrows']}, 'Player 2': {'Name': 'George', 'Gold': 120, 'Bag': ['Sword','Shield']}}`\n",
    "\n"
   ]
  },
  {
   "cell_type": "code",
   "execution_count": null,
   "metadata": {
    "scrolled": true
   },
   "outputs": [],
   "source": [
    "# Type your answer for sequence 3 below"
   ]
  }
 ],
 "metadata": {
  "kernelspec": {
   "display_name": "Python 3",
   "language": "python",
   "name": "python3"
  },
  "language_info": {
   "codemirror_mode": {
    "name": "ipython",
    "version": 3
   },
   "file_extension": ".py",
   "mimetype": "text/x-python",
   "name": "python",
   "nbconvert_exporter": "python",
   "pygments_lexer": "ipython3",
   "version": "3.8.5"
  }
 },
 "nbformat": 4,
 "nbformat_minor": 4
}
