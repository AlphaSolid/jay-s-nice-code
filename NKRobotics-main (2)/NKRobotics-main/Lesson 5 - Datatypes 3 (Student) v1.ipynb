{
 "cells": [
  {
   "cell_type": "markdown",
   "metadata": {},
   "source": [
    "# Datatypes 3\n",
    "\n",
    "Recap: What are the different datatypes?\n",
    "\n",
    "This lesson, we are going to learn about dictionary.\n",
    "\n",
    "Think. How does a real life dictionary works?\n",
    "\n",
    "A real life dictionary have a word(key) and its meaning(value).\n",
    "\n",
    "Dictionaries are used to store data values in key:value pairs.\n",
    "\n",
    "Dictionaries are created with curly brackets {} and their key value pairs."
   ]
  },
  {
   "cell_type": "markdown",
   "metadata": {},
   "source": [
    "**Note: Do not make changes to the #Example cells, only make changes to #code here cells. Otherwise create new cells to practice**"
   ]
  },
  {
   "cell_type": "code",
   "execution_count": null,
   "metadata": {},
   "outputs": [],
   "source": [
    "#Example\n",
    "myDictionary = {\n",
    "  \"fruit 1\": \"Apple\",\n",
    "  \"fruit 2\": \"Orange\",\n",
    "  \"fruit 3\": \"Banana\"\n",
    "}\n",
    "print(myDictionary)"
   ]
  },
  {
   "cell_type": "markdown",
   "metadata": {},
   "source": [
    "Values of a dictionary are accessed by their \"keys\"."
   ]
  },
  {
   "cell_type": "code",
   "execution_count": null,
   "metadata": {},
   "outputs": [],
   "source": [
    "#Example\n",
    "print(myDictionary[\"fruit 1\"])"
   ]
  },
  {
   "cell_type": "markdown",
   "metadata": {},
   "source": [
    "Unlike lists and tuples, dictionarys are UNORDERED. Meaning we cannot access elements by their index like we did in lists and tuples.\n",
    "\n",
    "print(myDictionary[0]) --> WRONG\n",
    "\n",
    "Dictionaries also cannot have duplicate keys.\n",
    "\n",
    "myDictionary = {\n",
    "    \"fruit 1\": \"Apple\",\n",
    "    \"fruit 1\": \"Banana\"\n",
    "}  --> WRONG\n",
    "\n",
    "\n",
    "#### Summary of dictionary rules\n",
    "\n",
    "1. Cannot access elements by index\n",
    "2. Cannot have duplicate keys"
   ]
  },
  {
   "cell_type": "markdown",
   "metadata": {},
   "source": [
    "# Practice 1 - Creating Dictionaries\n",
    "\n",
    "Create 3 dictionaries for different things.\n",
    "\n",
    "1. First dictionary should have 3 key-value pairs.\n",
    "\n",
    "Key|Value\n",
    "------|------\n",
    "Student 1| Adam\n",
    "Student 2| Bernard\n",
    "Student 3| Charlie\n",
    "\n",
    "\n",
    "2. Second dictionary should have 5 key-value pairs.\n",
    "\n",
    "Key|Value\n",
    "------|------\n",
    "Book 1| Twilight\n",
    "Book 2| Breaking Dawn\n",
    "Book 3| Charlie and the chocolate factory\n",
    "Book 4| Cars\n",
    "Book 5| Pokemon\n",
    "\n",
    "3. Third dictionary should have 7 key-value pairs.\n",
    "\n",
    "Key|Value\n",
    "------|------\n",
    "Game 1| Pokemon\n",
    "Game 2| Among Us\n",
    "Game 3| Fall Guys\n",
    "Game 4| Mobile Legends\n",
    "Game 5| Brawl Stars\n",
    "Game 6| Maple Story\n",
    "Game 7| MineCraft\n",
    " \n",
    "Example: \n",
    "\n",
    "dictionary1 = {\n",
    "\n",
    "    \"Student 1\" : \"Adam\",\n",
    "    \n",
    "    \"Student 2\" : \"Bernard\",\n",
    "    \n",
    "    \"Student 3\" : \"Charlie\"\n",
    "    \n",
    "}\n",
    "print(dictionary1)"
   ]
  },
  {
   "cell_type": "code",
   "execution_count": null,
   "metadata": {},
   "outputs": [],
   "source": [
    "#Code here\n",
    "dictionary1 = {}\n",
    "dictionary2 = {}\n",
    "dictionary3 = {}\n",
    "print(dictionary1)\n",
    "print(dictionary2)\n",
    "print(dictionary3)"
   ]
  },
  {
   "cell_type": "markdown",
   "metadata": {},
   "source": [
    "## Accessing values of key in dictionary\n",
    "\n",
    "Now for the 3 dictionaries you have created, access each of the values and see if you are able to access all of the values in the dictionary."
   ]
  },
  {
   "cell_type": "code",
   "execution_count": null,
   "metadata": {},
   "outputs": [],
   "source": [
    "#Code here\n",
    "\n",
    "print(\"Dictionary1: \")\n",
    "\n",
    "print(\"Dictionary2: \")\n",
    "\n",
    "print(\"Dictionary3: \")\n"
   ]
  },
  {
   "cell_type": "markdown",
   "metadata": {},
   "source": [
    "## Changing values of key in dictionary\n",
    "\n",
    "Similar to a list, the values of a dictionary can be changed.\n",
    "\n",
    "This can be done in a similar way to how we change values in a list."
   ]
  },
  {
   "cell_type": "code",
   "execution_count": null,
   "metadata": {
    "scrolled": true
   },
   "outputs": [],
   "source": [
    "#Example\n",
    "dictionary_1 = {\n",
    "    \"Student 1\" : \"Adam\",\n",
    "    \"Student 2\" : \"Bernard\",\n",
    "    \"Student 3\" : \"Charlie\"\n",
    "}\n",
    "print(\"Before changing: \", dictionary_1)\n",
    "\n",
    "dictionary1[\"Student 1\"] = \"Alex\"\n",
    "print(\"After changing: \", dictionary_1)"
   ]
  },
  {
   "cell_type": "markdown",
   "metadata": {},
   "source": [
    "## Adding key values pair in dictionary\n",
    "\n",
    "To add key values pair in dictionary, you can do so by:\n",
    "\n",
    "dictionary['new_key'] = 'new_value'"
   ]
  },
  {
   "cell_type": "code",
   "execution_count": null,
   "metadata": {
    "scrolled": true
   },
   "outputs": [],
   "source": [
    "#Example\n",
    "print(\"Before changing: \", dictionary_1)\n",
    "dictionary_1['Student 4'] = 'Derrick'\n",
    "print(\"After changing: \", dictionary_1)"
   ]
  },
  {
   "cell_type": "markdown",
   "metadata": {},
   "source": [
    "## Deleting key values pair in dictionary\n",
    "\n",
    "To delete key values pair in dictionary, you can do so by:\n",
    "\n",
    "del dictionary['key']"
   ]
  },
  {
   "cell_type": "code",
   "execution_count": null,
   "metadata": {
    "scrolled": true
   },
   "outputs": [],
   "source": [
    "#Example\n",
    "print(\"Before changing: \", dictionary_1)\n",
    "del dictionary_1['Student 4']\n",
    "print(\"After changing: \", dictionary_1)"
   ]
  },
  {
   "cell_type": "markdown",
   "metadata": {},
   "source": [
    "# Practice 2 - Making changes to dictionary\n",
    "\n",
    "Using the 3 dictionaries you have created in the previous exercise, change at least 2 values for each dictionary.\n",
    "\n",
    "Example: \n",
    "\n",
    "dictionary1 = {\n",
    "\n",
    "    \"Student 1\" : \"Adam\",\n",
    "\n",
    "    \"Student 2\" : \"Bernard\",\n",
    "\n",
    "    \"Student 3\" : \"Charlie\"\n",
    "    \n",
    "}\n",
    "\n",
    "print(\"Before changing: \", dictionary1)\n",
    "\n",
    "dictionary1[\"Student 1\"] = \"Alex\"\n",
    "\n",
    "dictionary1[\"Student 3\"] = \"Claire\"\n",
    "\n",
    "print(\"After changing: \", dictionary1)"
   ]
  },
  {
   "cell_type": "code",
   "execution_count": null,
   "metadata": {},
   "outputs": [],
   "source": [
    "#Code here\n"
   ]
  },
  {
   "cell_type": "markdown",
   "metadata": {},
   "source": [
    "Now, add 1 key-value pair in the first dictionary and remove 1 key-value pair in the second dictionary"
   ]
  },
  {
   "cell_type": "code",
   "execution_count": null,
   "metadata": {},
   "outputs": [],
   "source": [
    "#Code here"
   ]
  },
  {
   "cell_type": "markdown",
   "metadata": {},
   "source": [
    "Next, here comes the confusing part!\n",
    "\n",
    "Dictionaries can also be nested. \n",
    "\n",
    "Nested dictionary means a dictionary in a dictionary! And this is commonly used."
   ]
  },
  {
   "cell_type": "code",
   "execution_count": null,
   "metadata": {},
   "outputs": [],
   "source": [
    "#Example\n",
    "nestedDict = {\n",
    "    \"phone 1\":{\n",
    "        \"brand\": \"Samsung\",\n",
    "        \"model\": \"S10\",\n",
    "        \"year of release\": 2018\n",
    "    },\n",
    "    \"phone 2\":{\n",
    "        \"brand\": \"Apple\",\n",
    "        \"model\": \"iPhone10\",\n",
    "        \"year of release\": 2018\n",
    "    },\n",
    "    \"phone 3\":{\n",
    "        \"brand\": \"Huawei\",\n",
    "        \"model\": \"Mate 40 Pro\",\n",
    "        \"year of release\": 2020\n",
    "    }\n",
    "}\n",
    "print(nestedDict)"
   ]
  },
  {
   "cell_type": "markdown",
   "metadata": {},
   "source": [
    "Question: How do we access the values now then?"
   ]
  },
  {
   "cell_type": "code",
   "execution_count": null,
   "metadata": {},
   "outputs": [],
   "source": [
    "print(nestedDict['phone 1'])"
   ]
  },
  {
   "cell_type": "markdown",
   "metadata": {},
   "source": [
    "This will give us all the details of phone 1! \n",
    "\n",
    "What if i only want the brand of phone 1?\n",
    "\n",
    "To get the brand of phone 1, it is very simple. We just have to add in another square bracket with the correct key!"
   ]
  },
  {
   "cell_type": "code",
   "execution_count": null,
   "metadata": {},
   "outputs": [],
   "source": [
    "#Example\n",
    "#To get the brand of phone 1:\n",
    "print(nestedDict['phone 1']['brand'])"
   ]
  },
  {
   "cell_type": "markdown",
   "metadata": {},
   "source": [
    "# Practice 3 - Accessing values in nested dictionary\n",
    "\n",
    "Access ALL of the values in the dictionary provided below! Hint: 9 values to be accessed"
   ]
  },
  {
   "cell_type": "code",
   "execution_count": null,
   "metadata": {},
   "outputs": [],
   "source": [
    "nestedDict = {\n",
    "    \"phone 1\":{\n",
    "        \"brand\": \"Samsung\",\n",
    "        \"model\": \"S10\",\n",
    "        \"year of release\": 2018\n",
    "    },\n",
    "    \"phone 2\":{\n",
    "        \"brand\": \"Apple\",\n",
    "        \"model\": \"iPhone10\",\n",
    "        \"year of release\": 2018\n",
    "    },\n",
    "    \"phone 3\":{\n",
    "        \"brand\": \"Huawei\",\n",
    "        \"model\": \"Mate 40 Pro\",\n",
    "        \"year of release\": 2020\n",
    "    }\n",
    "}"
   ]
  },
  {
   "cell_type": "code",
   "execution_count": null,
   "metadata": {},
   "outputs": [],
   "source": [
    "#Code here\n"
   ]
  },
  {
   "cell_type": "markdown",
   "metadata": {},
   "source": [
    "### Thinking question: Do you think only dictionaries can be nested?"
   ]
  },
  {
   "cell_type": "code",
   "execution_count": null,
   "metadata": {},
   "outputs": [],
   "source": []
  }
 ],
 "metadata": {
  "kernelspec": {
   "display_name": "Python 3",
   "language": "python",
   "name": "python3"
  },
  "language_info": {
   "codemirror_mode": {
    "name": "ipython",
    "version": 3
   },
   "file_extension": ".py",
   "mimetype": "text/x-python",
   "name": "python",
   "nbconvert_exporter": "python",
   "pygments_lexer": "ipython3",
   "version": "3.7.4"
  }
 },
 "nbformat": 4,
 "nbformat_minor": 2
}
